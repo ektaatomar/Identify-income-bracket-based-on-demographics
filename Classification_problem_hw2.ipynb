{
  "nbformat": 4,
  "nbformat_minor": 0,
  "metadata": {
    "colab": {
      "name": "Classification_problem_hw2.ipynb",
      "version": "0.3.2",
      "provenance": [],
      "collapsed_sections": [],
      "include_colab_link": true
    },
    "kernelspec": {
      "name": "python3",
      "display_name": "Python 3"
    }
  },
  "cells": [
    {
      "cell_type": "markdown",
      "metadata": {
        "id": "view-in-github",
        "colab_type": "text"
      },
      "source": [
        "<a href=\"https://colab.research.google.com/github/ektaatomar/Identify-income-bracket-based-on-demographics/blob/master/Classification_problem_hw2.ipynb\" target=\"_parent\"><img src=\"https://colab.research.google.com/assets/colab-badge.svg\" alt=\"Open In Colab\"/></a>"
      ]
    },
    {
      "metadata": {
        "id": "0RcUuzObMnwC",
        "colab_type": "code",
        "outputId": "d9ac3652-6011-4a47-a2d1-a1baf6cd4c37",
        "colab": {
          "base_uri": "https://localhost:8080/",
          "height": 370
        }
      },
      "cell_type": "code",
      "source": [
        "import pandas as pd\n",
        "#read directly from the link\n",
        "df = pd.read_csv(\"https://archive.ics.uci.edu/ml/machine-learning-databases/adult/adult.data\")\n",
        "\n",
        "#data doesn't have column names in file \n",
        "df.columns= ['age',\n",
        "'workclass',\n",
        "'fnlwgt',\n",
        "'education',\n",
        "'education-num',\n",
        "'marital-status',\n",
        "'occupation',\n",
        "'relationship',\n",
        "'race',\n",
        "'sex',\n",
        "'capital-gain',\n",
        "'capital-loss',\n",
        "'hours-per-week',\n",
        "'native-country','income']\n",
        "\n",
        "#print(df.describe())\n",
        "\n",
        "count_class_0, count_class_1 = df.income.value_counts()\n",
        "\n",
        "print(df.head())\n",
        "\n",
        "print(df.isnull().values.any())\n",
        "\n"
      ],
      "execution_count": 0,
      "outputs": [
        {
          "output_type": "stream",
          "text": [
            "   age          workclass  fnlwgt   education  education-num  \\\n",
            "0   50   Self-emp-not-inc   83311   Bachelors             13   \n",
            "1   38            Private  215646     HS-grad              9   \n",
            "2   53            Private  234721        11th              7   \n",
            "3   28            Private  338409   Bachelors             13   \n",
            "4   37            Private  284582     Masters             14   \n",
            "\n",
            "        marital-status          occupation    relationship    race      sex  \\\n",
            "0   Married-civ-spouse     Exec-managerial         Husband   White     Male   \n",
            "1             Divorced   Handlers-cleaners   Not-in-family   White     Male   \n",
            "2   Married-civ-spouse   Handlers-cleaners         Husband   Black     Male   \n",
            "3   Married-civ-spouse      Prof-specialty            Wife   Black   Female   \n",
            "4   Married-civ-spouse     Exec-managerial            Wife   White   Female   \n",
            "\n",
            "   capital-gain  capital-loss  hours-per-week  native-country  income  \n",
            "0             0             0              13   United-States   <=50K  \n",
            "1             0             0              40   United-States   <=50K  \n",
            "2             0             0              40   United-States   <=50K  \n",
            "3             0             0              40            Cuba   <=50K  \n",
            "4             0             0              40   United-States   <=50K  \n",
            "False\n"
          ],
          "name": "stdout"
        }
      ]
    },
    {
      "metadata": {
        "id": "CZDuLq7KqSqB",
        "colab_type": "text"
      },
      "cell_type": "markdown",
      "source": [
        "Part of a different approach. - In case we have to remove missing value or the see how much missing values are there for how many columns. We dont require it here as the models seem to work pretty good with label encoder."
      ]
    },
    {
      "metadata": {
        "id": "7Psq2e6AormZ",
        "colab_type": "code",
        "outputId": "dac99016-f8fa-4187-cfdc-3919ea256b61",
        "colab": {
          "base_uri": "https://localhost:8080/",
          "height": 54
        }
      },
      "cell_type": "code",
      "source": [
        "#df.where(df['workclass']!='?')\n",
        "#df.info\n",
        "#is_2002 =  df[df['workclass'].str!=' ?']\n",
        "#print(is_2002)\n",
        "#df.astype(str)\n",
        "#print(df['native-country'].unique())\n",
        "#df_copy=df.where(df['workclass']==' ?')\n",
        "#print(df_copy)\n",
        "#df['age'].where(df['age'].astype(str)==' ?').count()\n",
        "#df['occupation'].where(df['occupation']==' ?').count()\n",
        "#df.where(df['native-country']==' ?')\n",
        "\n",
        "\n",
        "# Divide by class\n",
        "'''\n",
        "df_class_0 = df[df['income'] == ' <=50K']\n",
        "df_class_1 = df[df['income'] == ' >50K']\n",
        "df_class_1_over = df_class_1.sample(count_class_0, replace=True)\n",
        "df_test_over = pd.concat([df_class_0, df_class_1_over], axis=0)\n",
        "\n",
        "print('Random over-sampling:')\n",
        "print(df_test_over.income.value_counts())\n",
        "\n",
        "df_test_over.income.value_counts().plot(kind='bar', title='Count (income)');'''\n",
        "\n",
        "\n",
        "'''df_variable = df[['age',\n",
        "'workclass',\n",
        "'fnlwgt',\n",
        "'education',\n",
        "'education-num',\n",
        "'marital-status',\n",
        "'occupation',\n",
        "'relationship',\n",
        "'race',\n",
        "'sex',\n",
        "'capital-gain',\n",
        "'capital-loss',\n",
        "'hours-per-week',\n",
        "'native-country']]'''\n",
        "\n",
        "#df_target=df[['income']]\n",
        "#print(df_target.head())\n",
        "\n",
        "\n",
        "#df_variable.describe()\n",
        "#imputed_matrix= KNN(k=3).fit_transform(df_variable)\n",
        "#imputed_df= pd.DataFrame(imputed_matrix, columns = df.columns)\n",
        "#imputed_df"
      ],
      "execution_count": 0,
      "outputs": [
        {
          "output_type": "execute_result",
          "data": {
            "text/plain": [
              "\"df_variable = df[['age',\\n'workclass',\\n'fnlwgt',\\n'education',\\n'education-num',\\n'marital-status',\\n'occupation',\\n'relationship',\\n'race',\\n'sex',\\n'capital-gain',\\n'capital-loss',\\n'hours-per-week',\\n'native-country']]\""
            ]
          },
          "metadata": {
            "tags": []
          },
          "execution_count": 2
        }
      ]
    },
    {
      "metadata": {
        "id": "LoGAUPJHTrbr",
        "colab_type": "code",
        "outputId": "bf38caa8-10ad-43d3-8f32-c09f54f3b649",
        "colab": {
          "base_uri": "https://localhost:8080/",
          "height": 118
        }
      },
      "cell_type": "code",
      "source": [
        "\n",
        "from sklearn.preprocessing import LabelEncoder\n",
        "Lencoder= LabelEncoder()\n",
        "df=df.apply(Lencoder.fit_transform)\n",
        "df_target=df[['income']]\n",
        "df_features = df[['age',\n",
        "'workclass',\n",
        "'fnlwgt',\n",
        "'education',\n",
        "'education-num',\n",
        "'marital-status',\n",
        "'occupation',\n",
        "'relationship',\n",
        "'race',\n",
        "'sex',\n",
        "'capital-gain',\n",
        "'capital-loss',\n",
        "'hours-per-week',\n",
        "'native-country']]\n",
        "print(df_target.head())\n",
        "\n",
        "#df_features = pd.get_dummies(df_variable, drop_first = True) \n",
        "#df_features=df_variable.apply(Lencoder.fit_transform)\n",
        "#df_features.head()"
      ],
      "execution_count": 0,
      "outputs": [
        {
          "output_type": "stream",
          "text": [
            "   income\n",
            "0       0\n",
            "1       0\n",
            "2       0\n",
            "3       0\n",
            "4       0\n"
          ],
          "name": "stdout"
        }
      ]
    },
    {
      "metadata": {
        "id": "i_1W7-nlghAT",
        "colab_type": "code",
        "outputId": "398fe4d5-6d36-4019-c5e1-f4611d37a45d",
        "colab": {
          "base_uri": "https://localhost:8080/",
          "height": 781
        }
      },
      "cell_type": "code",
      "source": [
        "from sklearn.tree import DecisionTreeClassifier\n",
        "from sklearn.model_selection import train_test_split\n",
        "from matplotlib import pyplot as plt\n",
        "from sklearn.metrics import confusion_matrix, accuracy_score,precision_score, recall_score, f1_score, classification_report, auc,precision_recall_curve\n",
        "\n",
        "x_train,x_test,y_train,y_test = train_test_split(df_features,df_target, test_size = 0.20, random_state = 0)\n",
        "tree=DecisionTreeClassifier(criterion='entropy', max_depth=10)\n",
        "tree.fit(x_train,y_train)\n",
        "predictions=tree.predict(x_test)\n",
        "print(\"DecisionTreeClassifier \\n\")\n",
        "print(\"Accuracy on training set: {:.3f}\".format(tree.score(x_train, y_train)))\n",
        "print(\"Accuracy on test set: {:.3f}\".format(tree.score(x_test, y_test)))\n",
        "print(\"Feature importances:\\n{}\".format(tree.feature_importances_))\n",
        "print(\"The confusion matrix is:\\n\", confusion_matrix(y_test,predictions))\n",
        "labels = ['Class 0', 'Class 1']\n",
        "fig = plt.figure()\n",
        "ax = fig.add_subplot(111)\n",
        "cax = ax.matshow(confusion_matrix(y_test,predictions), cmap=plt.cm.Blues)\n",
        "fig.colorbar(cax)\n",
        "ax.set_xticklabels([''] + labels)\n",
        "ax.set_yticklabels([''] + labels)\n",
        "plt.xlabel('Predicted')\n",
        "plt.ylabel('Expected')\n",
        "plt.show()\n",
        "\n",
        "print(\"Accuracy score: {:.3f}\".format(accuracy_score(y_test,predictions)))\n",
        "print(\"f1_score: {:.3f}\".format(f1_score(y_test,predictions,average = \"weighted\")))\n",
        "print(\"precision_score: {:.3f}\".format(precision_score(y_test,predictions,average = \"weighted\")))\n",
        "print(\"recall_score: {:.3f}\".format(recall_score(y_test,predictions,average = \"weighted\")))\n",
        "print(\"classification_report:\\n{}\".format(classification_report(y_test,predictions, target_names=['<=50k','>50k'])))\n",
        "\n",
        "\n",
        "\n",
        "\n",
        "print(y_test.shape)\n",
        "#new_data=y_test['income'].reshape(6512,)\n",
        "#print(new_data)\n",
        "#print(new_data.shape)\n",
        "#print(predictions.shape)\n",
        "\n",
        "FPR, TPR, thresholds = precision_recall_curve(y_test, predictions, pos_label =1)\n",
        "print(\"AUC = \",auc(FPR, TPR))\n",
        "\n",
        "\n",
        "\n",
        "\n",
        "\n"
      ],
      "execution_count": 0,
      "outputs": [
        {
          "output_type": "stream",
          "text": [
            "DecisionTreeClassifier \n",
            "\n",
            "Accuracy on training set: 0.867\n",
            "Accuracy on test set: 0.859\n",
            "Feature importances:\n",
            "[0.06490976 0.00827105 0.01739708 0.00040847 0.16196962 0.00163389\n",
            " 0.02470986 0.38404068 0.00339902 0.00269081 0.21639281 0.06284166\n",
            " 0.04742714 0.00390815]\n",
            "The confusion matrix is:\n",
            " [[4598  359]\n",
            " [ 556  999]]\n"
          ],
          "name": "stdout"
        },
        {
          "output_type": "display_data",
          "data": {
            "image/png": "[encoded data removed]",
            "text/plain": [
              "<matplotlib.figure.Figure at 0x7fa0487accc0>"
            ]
          },
          "metadata": {
            "tags": []
          }
        },
        {
          "output_type": "stream",
          "text": [
            "Accuracy score: 0.859\n",
            "f1_score: 0.856\n",
            "precision_score: 0.855\n",
            "recall_score: 0.859\n",
            "classification_report:\n",
            "             precision    recall  f1-score   support\n",
            "\n",
            "      <=50k       0.89      0.93      0.91      4957\n",
            "       >50k       0.74      0.64      0.69      1555\n",
            "\n",
            "avg / total       0.85      0.86      0.86      6512\n",
            "\n",
            "(6512, 1)\n",
            "AUC =  0.49294268035815086\n"
          ],
          "name": "stdout"
        }
      ]
    },
    {
      "metadata": {
        "colab_type": "code",
        "id": "76U0wBkzpjIm",
        "colab": {}
      },
      "cell_type": "code",
      "source": [
        ""
      ],
      "execution_count": 0,
      "outputs": []
    },
    {
      "metadata": {
        "id": "JxFYEyEjS0IX",
        "colab_type": "code",
        "outputId": "6fcc9197-7687-462b-aecb-bc75bd90b16d",
        "colab": {
          "base_uri": "https://localhost:8080/",
          "height": 87
        }
      },
      "cell_type": "code",
      "source": [
        "from sklearn.cross_validation import KFold, cross_val_score\n",
        "cv_folds = KFold(n=df.shape[0], n_folds = 5, random_state = 42)\n",
        "cv_score = cross_val_score(tree, df_features, df_target, cv = cv_folds)\n",
        "print(\"{} +/- {:.2f}\".format(cv_score.mean(),cv_score.std() / 2))\n",
        "\n"
      ],
      "execution_count": 0,
      "outputs": [
        {
          "output_type": "stream",
          "text": [
            "/usr/local/lib/python3.6/dist-packages/sklearn/cross_validation.py:41: DeprecationWarning: This module was deprecated in version 0.18 in favor of the model_selection module into which all the refactored classes and functions are moved. Also note that the interface of the new CV iterators are different from that of this module. This module will be removed in 0.20.\n",
            "  \"This module will be removed in 0.20.\", DeprecationWarning)\n"
          ],
          "name": "stderr"
        },
        {
          "output_type": "stream",
          "text": [
            "0.8522727272727273 +/- 0.00\n"
          ],
          "name": "stdout"
        }
      ]
    },
    {
      "metadata": {
        "id": "LtUQvdimP89n",
        "colab_type": "code",
        "outputId": "7531c915-f20f-4508-aad0-89152e666af8",
        "colab": {
          "base_uri": "https://localhost:8080/",
          "height": 390
        }
      },
      "cell_type": "code",
      "source": [
        "#import sys\n",
        "#!{sys.executable} -m pip install sklearn\n",
        "\n",
        "'''from sklearn.decomposition import PCA\n",
        "# Make an instance of the Model\n",
        "pca = PCA(.95)\n",
        "pca.fit(x_train)\n",
        "print(pca.n_components_)\n",
        "x_train = pca.transform(x_train)\n",
        "x_test = pca.transform(x_test)'''\n",
        "\n",
        "from sklearn.ensemble import RandomForestClassifier\n",
        "rf = RandomForestClassifier(n_estimators = 1000,criterion='entropy', random_state = 42, n_jobs =-1)\n",
        "\n",
        "rf_model=rf.fit(x_train,y_train)\n",
        "predictions=rf_model.predict(x_test)\n",
        "print(\"RandomForestClassifier\")\n",
        "print(\"Accuracy on training set: {:.3f}\".format(rf_model.score(x_train, y_train)))\n",
        "print(\"Accuracy on test set: {:.3f}\".format(rf_model.score(x_test, y_test)))\n",
        "print(\"Feature importances:\\n{}\".format(rf_model.feature_importances_))\n",
        "print(\"f1_score: {:.3f}\".format(f1_score(y_test,predictions,average = \"weighted\")))\n",
        "print(\"precision_score: {:.3f}\".format(precision_score(y_test,predictions,average = \"weighted\")))\n",
        "print(\"recall_score: {:.3f}\".format(recall_score(y_test,predictions,average = \"weighted\")))\n",
        "print(\"classification_report:\\n {}\".format(classification_report(y_test,predictions, target_names=['<=50k','>50k'])))\n",
        "FPR, TPR, thresholds = precision_recall_curve(y_test, predictions, pos_label =1)\n",
        "print(\"AUC = \",auc(FPR, TPR))\n",
        "\n",
        "\n",
        "\n",
        "\n"
      ],
      "execution_count": 0,
      "outputs": [
        {
          "output_type": "stream",
          "text": [
            "/usr/local/lib/python3.6/dist-packages/ipykernel_launcher.py:13: DataConversionWarning: A column-vector y was passed when a 1d array was expected. Please change the shape of y to (n_samples,), for example using ravel().\n",
            "  del sys.path[0]\n"
          ],
          "name": "stderr"
        },
        {
          "output_type": "stream",
          "text": [
            "RandomForestClassifier\n",
            "Accuracy on training set: 1.000\n",
            "Accuracy on test set: 0.858\n",
            "Feature importances:\n",
            "[0.15949781 0.04012221 0.17017344 0.03479404 0.07864075 0.0812495\n",
            " 0.06871847 0.09885796 0.01491441 0.01319362 0.10445289 0.03223744\n",
            " 0.08533917 0.01780831]\n",
            "f1_score: 0.853\n",
            "precision_score: 0.852\n",
            "recall_score: 0.858\n",
            "classification_report:\n",
            "              precision    recall  f1-score   support\n",
            "\n",
            "      <=50k       0.89      0.93      0.91      4957\n",
            "       >50k       0.74      0.62      0.68      1555\n",
            "\n",
            "avg / total       0.85      0.86      0.85      6512\n",
            "\n",
            "AUC =  0.4875653128630723\n"
          ],
          "name": "stdout"
        }
      ]
    },
    {
      "metadata": {
        "id": "WomEeJk6bvzg",
        "colab_type": "code",
        "outputId": "37b38202-41a9-4020-c098-e8b6bc961580",
        "colab": {
          "base_uri": "https://localhost:8080/",
          "height": 339
        }
      },
      "cell_type": "code",
      "source": [
        "from sklearn.neural_network import MLPClassifier\n",
        "mlp = MLPClassifier(max_iter =100000,activation = 'relu',random_state=42, alpha=0.00000001)\n",
        "mlp.fit(x_train, y_train)\n",
        "predictions=mlp.predict(x_test)\n",
        "\n",
        "print(\"MLPClassifier \\n\")\n",
        "print(\"Accuracy on training set: {:.2f}\".format(mlp.score(x_train, y_train)))\n",
        "print(\"Accuracy on test set: {:.2f}\".format(mlp.score(x_test, y_test)))\n",
        "print(\"f1_score: {:.3f}\".format(f1_score(y_test,predictions,average = \"weighted\")))\n",
        "print(\"precision_score: {:.3f}\".format(precision_score(y_test,predictions,average = \"weighted\")))\n",
        "print(\"recall_score: {:.3f}\".format(recall_score(y_test,predictions,average = \"weighted\")))\n",
        "print(\"classification_report:\\n {}\".format(classification_report(y_test,predictions, target_names=['<=50k','>50k'])))\n",
        "FPR, TPR, thresholds = precision_recall_curve(y_test, predictions, pos_label =1)\n",
        "print(\"AUC = \",auc(FPR, TPR))\n"
      ],
      "execution_count": 0,
      "outputs": [
        {
          "output_type": "stream",
          "text": [
            "/usr/local/lib/python3.6/dist-packages/sklearn/neural_network/multilayer_perceptron.py:912: DataConversionWarning: A column-vector y was passed when a 1d array was expected. Please change the shape of y to (n_samples, ), for example using ravel().\n",
            "  y = column_or_1d(y, warn=True)\n"
          ],
          "name": "stderr"
        },
        {
          "output_type": "stream",
          "text": [
            "MLPClassifier \n",
            "\n",
            "Accuracy on training set: 0.81\n",
            "Accuracy on test set: 0.80\n",
            "f1_score: 0.772\n",
            "precision_score: 0.785\n",
            "recall_score: 0.802\n",
            "classification_report:\n",
            "              precision    recall  f1-score   support\n",
            "\n",
            "      <=50k       0.82      0.96      0.88      4957\n",
            "       >50k       0.69      0.31      0.43      1555\n",
            "\n",
            "avg / total       0.78      0.80      0.77      6512\n",
            "\n",
            "AUC =  0.3424236911061186\n"
          ],
          "name": "stdout"
        }
      ]
    },
    {
      "metadata": {
        "id": "X6UqCsTGmHe3",
        "colab_type": "code",
        "outputId": "24613258-f14e-4df5-c498-448cadaafa1f",
        "colab": {
          "base_uri": "https://localhost:8080/",
          "height": 541
        }
      },
      "cell_type": "code",
      "source": [
        "from sklearn.linear_model import LogisticRegression\n",
        "lr = LogisticRegression()\n",
        "from sklearn.feature_selection import RFE\n",
        "rfe = RFE(lr, 1)\n",
        "rfe = rfe.fit(x_train, y_train)\n",
        "print(rfe.support_)\n",
        "print(rfe.ranking_)\n",
        "print(\"Features sorted by their rank:\")\n",
        "feature_rank=sorted(zip(map(lambda x: round(x, 4), rfe.ranking_), df_features.columns))\n",
        "print(feature_rank[:12])\n",
        "names=[]\n",
        "for rank, name in feature_rank[:13]:\n",
        "  names.append(name)\n",
        "lg1 = LogisticRegression(C=1000000).fit(x_train[names], y_train)\n",
        "predictions=lg1.predict(x_test[names])\n",
        "\n",
        "print(\"LogisticRegression with recursive feature elimination \\n\")\n",
        "print(\"Training Accuracy: {}\".format(lg1.score(x_train[names], y_train)))\n",
        "print(\"Test Accuracy: {}\".format(lg1.score(x_test[names], y_test)))\n",
        "print(\"f1_score: {:.3f}\".format(f1_score(y_test,predictions,average = \"weighted\")))\n",
        "print(\"precision_score: {:.3f}\".format(precision_score(y_test,predictions,average = \"weighted\")))\n",
        "print(\"recall_score: {:.3f}\".format(recall_score(y_test,predictions,average = \"weighted\")))\n",
        "print(\"classification_report:\\n {}\".format(classification_report(y_test,predictions, target_names=['<=50k','>50k'])))\n",
        "FPR, TPR, thresholds = precision_recall_curve(y_test, predictions, pos_label =1)\n",
        "print(\"AUC = \",auc(FPR, TPR))\n",
        "print(\"\\n LogisticRegression without recursive feature elimination \\n\")\n",
        "lg2 = LogisticRegression().fit(x_train, y_train)\n",
        "print(\"Training Accuracy: {}\".format(lg2.score(x_train, y_train)))\n",
        "print(\"Test Accuracy: {}\".format(lg2.score(x_test, y_test)))\n",
        "\n",
        "\n"
      ],
      "execution_count": 0,
      "outputs": [
        {
          "output_type": "stream",
          "text": [
            "/usr/local/lib/python3.6/dist-packages/sklearn/utils/validation.py:578: DataConversionWarning: A column-vector y was passed when a 1d array was expected. Please change the shape of y to (n_samples, ), for example using ravel().\n",
            "  y = column_or_1d(y, warn=True)\n"
          ],
          "name": "stderr"
        },
        {
          "output_type": "stream",
          "text": [
            "[False False False False False False False False False  True False False\n",
            " False False]\n",
            "[ 6 10 14 11  2  3 12  4  5  1  9  8  7 13]\n",
            "Features sorted by their rank:\n",
            "[(1, 'sex'), (2, 'education-num'), (3, 'marital-status'), (4, 'relationship'), (5, 'race'), (6, 'age'), (7, 'hours-per-week'), (8, 'capital-loss'), (9, 'capital-gain'), (10, 'workclass'), (11, 'education'), (12, 'occupation')]\n"
          ],
          "name": "stdout"
        },
        {
          "output_type": "stream",
          "text": [
            "/usr/local/lib/python3.6/dist-packages/sklearn/utils/validation.py:578: DataConversionWarning: A column-vector y was passed when a 1d array was expected. Please change the shape of y to (n_samples, ), for example using ravel().\n",
            "  y = column_or_1d(y, warn=True)\n"
          ],
          "name": "stderr"
        },
        {
          "output_type": "stream",
          "text": [
            "LogisticRegression with recursive feature elimination \n",
            "\n",
            "Training Accuracy: 0.8240939803439803\n",
            "Test Accuracy: 0.8220208845208845\n",
            "f1_score: 0.806\n",
            "precision_score: 0.810\n",
            "recall_score: 0.822\n",
            "classification_report:\n",
            "              precision    recall  f1-score   support\n",
            "\n",
            "      <=50k       0.84      0.94      0.89      4957\n",
            "       >50k       0.71      0.44      0.54      1555\n",
            "\n",
            "avg / total       0.81      0.82      0.81      6512\n",
            "\n",
            "AUC =  0.3997403477643068\n",
            "\n",
            " LogisticRegression without recursive feature elimination \n",
            "\n",
            "Training Accuracy: 0.8067030098280098\n",
            "Test Accuracy: 0.8060503685503686\n"
          ],
          "name": "stdout"
        }
      ]
    },
    {
      "metadata": {
        "id": "Qylebaair73t",
        "colab_type": "code",
        "outputId": "3e1fc3d7-be9b-40af-d6ef-6d69b68f01d1",
        "colab": {
          "base_uri": "https://localhost:8080/",
          "height": 339
        }
      },
      "cell_type": "code",
      "source": [
        "from sklearn import svm\n",
        "clf = svm.SVC()\n",
        "clf.fit(x_train[names], y_train)\n",
        "predictions=clf.predict(x_test[names])\n",
        "print(\"svm  \\n\")\n",
        "print(\"Training Accuracy: {}\".format(clf.score(x_train[names], y_train)))\n",
        "print(\"Test Accuracy: {}\".format(clf.score(x_test[names], y_test)))\n",
        "print(\"f1_score: {:.3f}\".format(f1_score(y_test,predictions,average = \"weighted\")))\n",
        "print(\"precision_score: {:.3f}\".format(precision_score(y_test,predictions,average = \"weighted\")))\n",
        "print(\"recall_score: {:.3f}\".format(recall_score(y_test,predictions,average = \"weighted\")))\n",
        "print(\"classification_report:\\n {}\".format(classification_report(y_test,predictions, target_names=['<=50k','>50k'])))\n",
        "FPR, TPR, thresholds = precision_recall_curve(y_test, predictions, pos_label =1)\n",
        "print(\"AUC = \",auc(FPR, TPR))"
      ],
      "execution_count": 0,
      "outputs": [
        {
          "output_type": "stream",
          "text": [
            "/usr/local/lib/python3.6/dist-packages/sklearn/utils/validation.py:578: DataConversionWarning: A column-vector y was passed when a 1d array was expected. Please change the shape of y to (n_samples, ), for example using ravel().\n",
            "  y = column_or_1d(y, warn=True)\n"
          ],
          "name": "stderr"
        },
        {
          "output_type": "stream",
          "text": [
            "svm  \n",
            "\n",
            "Training Accuracy: 0.9197635135135135\n",
            "Test Accuracy: 0.8195638820638821\n",
            "f1_score: 0.798\n",
            "precision_score: 0.808\n",
            "recall_score: 0.820\n",
            "classification_report:\n",
            "              precision    recall  f1-score   support\n",
            "\n",
            "      <=50k       0.83      0.95      0.89      4957\n",
            "       >50k       0.73      0.39      0.51      1555\n",
            "\n",
            "avg / total       0.81      0.82      0.80      6512\n",
            "\n",
            "AUC =  0.39314392753551314\n"
          ],
          "name": "stdout"
        }
      ]
    }
  ]
}